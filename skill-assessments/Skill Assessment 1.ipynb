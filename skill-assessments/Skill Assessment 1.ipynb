{
 "cells": [
  {
   "cell_type": "markdown",
   "id": "bd5f0a6a",
   "metadata": {},
   "source": [
    "# Skill Assessment 1\n",
    "### Solved by Reggie Bain"
   ]
  },
  {
   "cell_type": "markdown",
   "id": "2bf60218",
   "metadata": {},
   "source": [
    "1. Extract the unique characters in the string stored in `sample_string`."
   ]
  },
  {
   "cell_type": "code",
   "execution_count": 2,
   "id": "11e2459a",
   "metadata": {},
   "outputs": [],
   "source": [
    "sample_string = \"I'm blue Da ba dee da ba di.\""
   ]
  },
  {
   "cell_type": "code",
   "execution_count": 5,
   "id": "8089369f",
   "metadata": {},
   "outputs": [
    {
     "data": {
      "text/plain": [
       "['b', '.', 'D', 'a', 'u', 'I', 'm', ' ', \"'\", 'i', 'l', 'e', 'd']"
      ]
     },
     "execution_count": 5,
     "metadata": {},
     "output_type": "execute_result"
    }
   ],
   "source": [
    "## code here\n",
    "unique = list(set(sample_string))\n",
    "unique"
   ]
  },
  {
   "cell_type": "markdown",
   "id": "02a1637f",
   "metadata": {},
   "source": [
    "2. Write a function that can take in a string and return the unique characters. Test it on `sample_string` from 1."
   ]
  },
  {
   "cell_type": "code",
   "execution_count": 7,
   "id": "e8516ee5",
   "metadata": {},
   "outputs": [
    {
     "data": {
      "text/plain": [
       "['b', '.', 'D', 'a', 'u', 'I', 'm', ' ', \"'\", 'i', 'l', 'e', 'd']"
      ]
     },
     "execution_count": 7,
     "metadata": {},
     "output_type": "execute_result"
    }
   ],
   "source": [
    "## code here\n",
    "def unique_chars(input_str):\n",
    "    return list(set(input_str))\n",
    "unique_chars(sample_string)"
   ]
  },
  {
   "cell_type": "markdown",
   "id": "83565e3a",
   "metadata": {},
   "source": [
    "3. Without using `numpy` make a list that contains the cumulative sums of the numbers in `list1`."
   ]
  },
  {
   "cell_type": "code",
   "execution_count": 9,
   "id": "d27c0e85",
   "metadata": {},
   "outputs": [],
   "source": [
    "list1 = [71, 88, 2, -2, 8, 11.3]"
   ]
  },
  {
   "cell_type": "code",
   "execution_count": 14,
   "id": "a5d7ff87",
   "metadata": {},
   "outputs": [
    {
     "data": {
      "text/plain": [
       "[71, 159, 161, 159, 167, 178.3]"
      ]
     },
     "execution_count": 14,
     "metadata": {},
     "output_type": "execute_result"
    }
   ],
   "source": [
    "## code here\n",
    "sums = [sum(list1[:i]) for i in range(1, len(list1)+1)]\n",
    "sums"
   ]
  },
  {
   "cell_type": "markdown",
   "id": "2abe4db5",
   "metadata": {},
   "source": [
    "4. Write a function that takes in a `list` of numbers and returns the cumulative sum without using `numpy`. You are allowed to compare your answer to the output of `numpy`'s `cumsum`."
   ]
  },
  {
   "cell_type": "code",
   "execution_count": 16,
   "id": "5d411716",
   "metadata": {},
   "outputs": [
    {
     "data": {
      "text/plain": [
       "[71, 159, 161, 159, 167, 178.3]"
      ]
     },
     "execution_count": 16,
     "metadata": {},
     "output_type": "execute_result"
    }
   ],
   "source": [
    "## code here\n",
    "def cum_sum(myList):\n",
    "    return [sum(myList[:i]) for i in range(1,len(myList)+1)]\n",
    "cum_sum(list1)"
   ]
  },
  {
   "cell_type": "code",
   "execution_count": 17,
   "id": "d1f000d4",
   "metadata": {},
   "outputs": [
    {
     "data": {
      "text/plain": [
       "array([ 71. , 159. , 161. , 159. , 167. , 178.3])"
      ]
     },
     "execution_count": 17,
     "metadata": {},
     "output_type": "execute_result"
    }
   ],
   "source": [
    "## code here\n",
    "import numpy as np\n",
    "np.cumsum(list1)"
   ]
  },
  {
   "cell_type": "code",
   "execution_count": null,
   "id": "171b289b",
   "metadata": {},
   "outputs": [],
   "source": [
    "## code here\n"
   ]
  },
  {
   "cell_type": "code",
   "execution_count": null,
   "id": "25ecada9",
   "metadata": {},
   "outputs": [],
   "source": [
    "## code here\n"
   ]
  },
  {
   "cell_type": "markdown",
   "id": "57d72181",
   "metadata": {},
   "source": [
    "5. Below is a dictionary called `pantry` which has various ingredients along with the amounts of which you have in your pantry and `choc_chip_cookies` which has the amount of each ingredient needed to make a batch of chocolate chip cookies. Write a function called `cook` which takes in a recipe and a pantry then checks that you have enough ingredients in your pantry to make the recipe:\n",
    "- if you do not have enough ingredients, the function prints out how much of each ingredient is needed to complete the recipe,\n",
    "- if you do have enough ingredients, the function should print `\"Taking ingredients out of the pantry!\"` and then update the `pantry` dictionary to reflect what ingredients were taken for the recipe.\n",
    "    \n",
    "Cook a batch of cookies."
   ]
  },
  {
   "cell_type": "code",
   "execution_count": 52,
   "id": "05f267fa",
   "metadata": {},
   "outputs": [],
   "source": [
    "pantry = {'butter': 8,\n",
    "          'flour': 7,\n",
    "          'salt': 16,\n",
    "          'white sugar': 5,\n",
    "          'brown sugar': 4,\n",
    "          'eggs': 8,\n",
    "          'vanilla extract': 3,\n",
    "          'oil':20,\n",
    "          'chocolate chips':6,\n",
    "          'peanut butter':2,\n",
    "          'baking soda': 9,\n",
    "          'baking powder': 11}\n",
    "\n",
    "choc_chip_cookies = {'butter':2,\n",
    "                     'flour':4,\n",
    "                     'eggs':1,\n",
    "                     'salt':2,\n",
    "                     'white sugar': 4,\n",
    "                     'brown sugar': 2,\n",
    "                     'vanilla extract': 1,\n",
    "                     'chocolate chips': 4,\n",
    "                     'baking soda':2}"
   ]
  },
  {
   "cell_type": "code",
   "execution_count": 53,
   "id": "2fde86b4",
   "metadata": {},
   "outputs": [
    {
     "name": "stdout",
     "output_type": "stream",
     "text": [
      "Taking ingredients out of the pantry!\n"
     ]
    }
   ],
   "source": [
    "## code here\n",
    "def cook(pantry: dict, recipe: dict) -> None:\n",
    "    # Loop over keys in recipe\n",
    "    possible = True\n",
    "    for key in recipe:\n",
    "        # If the ingredient in pantry, subtract amounts\n",
    "        if key in pantry:\n",
    "            pantry[key] -= recipe[key]\n",
    "            # If the pantry now has negative ingredients somewhere, return not possible\n",
    "            if pantry[key] < 0:\n",
    "                print(f'You need {-pantry[key]} {key} from the store!')\n",
    "                possible = False    \n",
    "    # After looping, check if we have enough\n",
    "    if possible:\n",
    "        print(f\"Taking ingredients out of the pantry!\")\n",
    "    return\n",
    "\n",
    "cook(pantry, choc_chip_cookies)"
   ]
  },
  {
   "cell_type": "markdown",
   "id": "644c49ce",
   "metadata": {},
   "source": [
    "6. Write a function that takes in a dictionary of ingredients and adds them to the pantry. Add the ingredients in `shopping_trip` to the `pantry` from 5."
   ]
  },
  {
   "cell_type": "code",
   "execution_count": 54,
   "id": "0eaf5bf2",
   "metadata": {},
   "outputs": [],
   "source": [
    "shopping_trip = {'flour': 6,\n",
    "                 'pepper': 8,\n",
    "                 'cumen': 10,\n",
    "                 'coffee': 32,\n",
    "                 'white sugar':12}"
   ]
  },
  {
   "cell_type": "code",
   "execution_count": 55,
   "id": "9c835e38",
   "metadata": {},
   "outputs": [
    {
     "data": {
      "text/plain": [
       "{'butter': 6,\n",
       " 'flour': 9,\n",
       " 'salt': 14,\n",
       " 'white sugar': 13,\n",
       " 'brown sugar': 2,\n",
       " 'eggs': 7,\n",
       " 'vanilla extract': 2,\n",
       " 'oil': 20,\n",
       " 'chocolate chips': 2,\n",
       " 'peanut butter': 2,\n",
       " 'baking soda': 7,\n",
       " 'baking powder': 11,\n",
       " 'pepper': 8,\n",
       " 'cumen': 10,\n",
       " 'coffee': 32}"
      ]
     },
     "execution_count": 55,
     "metadata": {},
     "output_type": "execute_result"
    }
   ],
   "source": [
    "## code here\n",
    "def buy_food(pantry: dict, groceries: dict) -> None:\n",
    "    for grocery in groceries:\n",
    "        # Add count from groceries to existing if its already there, otherwise add to 0\n",
    "        pantry[grocery] = groceries[grocery] + pantry.get(grocery, 0)\n",
    "    return pantry\n",
    "buy_food(pantry, shopping_trip)"
   ]
  },
  {
   "cell_type": "markdown",
   "id": "88335c39",
   "metadata": {},
   "source": [
    "7. Write a function that checks the `pantry` and tells you if any ingredients are less than or equal to 2:\n",
    "- for any item that is, print out the item and how much is left in the `pantry`,\n",
    "- if no items are running low, print `\"All ingredients in the cupboard are well stocked!\"`.\n",
    "Run this function, if your `pantry` is low on anything add more of the items you're running low on using the function in 6."
   ]
  },
  {
   "cell_type": "code",
   "execution_count": 56,
   "id": "2e3434ee",
   "metadata": {},
   "outputs": [
    {
     "name": "stdout",
     "output_type": "stream",
     "text": [
      "Only 2 of brown sugar left in pantry!\n",
      "Only 2 of vanilla extract left in pantry!\n",
      "Only 2 of chocolate chips left in pantry!\n",
      "Only 2 of peanut butter left in pantry!\n"
     ]
    }
   ],
   "source": [
    "## code here\n",
    "def check_pantry(pantry: dict) -> None:\n",
    "    # Loop over ingredients and return dict of what we need\n",
    "    stocked = True\n",
    "    for thing in pantry:\n",
    "        if pantry[thing] <= 2:\n",
    "            print(f'Only {pantry[thing]} of {thing} left in pantry!')\n",
    "            stocked = False\n",
    "    if stocked:\n",
    "        print(f'All ingredients in the cupboard are well stocked!')   \n",
    "    return\n",
    "\n",
    "check_pantry(pantry)"
   ]
  },
  {
   "cell_type": "code",
   "execution_count": 57,
   "id": "7c488628",
   "metadata": {},
   "outputs": [
    {
     "data": {
      "text/plain": [
       "{'butter': 6,\n",
       " 'flour': 9,\n",
       " 'salt': 14,\n",
       " 'white sugar': 13,\n",
       " 'brown sugar': 10,\n",
       " 'eggs': 7,\n",
       " 'vanilla extract': 22,\n",
       " 'oil': 20,\n",
       " 'chocolate chips': 10,\n",
       " 'peanut butter': 12,\n",
       " 'baking soda': 7,\n",
       " 'baking powder': 11,\n",
       " 'pepper': 8,\n",
       " 'cumen': 10,\n",
       " 'coffee': 32}"
      ]
     },
     "execution_count": 57,
     "metadata": {},
     "output_type": "execute_result"
    }
   ],
   "source": [
    "buy_food(pantry, {'brown sugar': 8, 'vanilla extract': 20, 'chocolate chips': 8, 'peanut butter': 10})"
   ]
  },
  {
   "cell_type": "code",
   "execution_count": 58,
   "id": "96d3916f",
   "metadata": {},
   "outputs": [
    {
     "name": "stdout",
     "output_type": "stream",
     "text": [
      "All ingredients in the cupboard are well stocked!\n"
     ]
    }
   ],
   "source": [
    "check_pantry(pantry)"
   ]
  },
  {
   "cell_type": "markdown",
   "id": "95f71bed",
   "metadata": {},
   "source": [
    "8. Write a function that checks if a given ingredient is in the pantry. Check if you have any `\"mustard\"` or `\"cumen\"` in the pantry."
   ]
  },
  {
   "cell_type": "code",
   "execution_count": 60,
   "id": "c3350c55",
   "metadata": {},
   "outputs": [
    {
     "name": "stdout",
     "output_type": "stream",
     "text": [
      "There is NO mustard in the pantry!\n",
      "You have 10 cumen in the pantry!\n"
     ]
    }
   ],
   "source": [
    "## code here\n",
    "def check_item(pantry: dict, item):\n",
    "    if item in pantry:\n",
    "        print(f'You have {pantry[item]} {item} in the pantry!')\n",
    "    else:\n",
    "        print(f'There is NO {item} in the pantry!')    \n",
    "    return\n",
    "check_item(pantry, 'mustard')\n",
    "check_item(pantry, 'cumen')"
   ]
  },
  {
   "cell_type": "markdown",
   "id": "7ae77832",
   "metadata": {},
   "source": [
    "9. (More Advanced Question) You can retrieve user input with `input(a string)`. Run the code chunk below to see an example. Use `input` to code up a function called `guess_a_number` that prompts the user to think of an integer between $1$ and $100$ (inclusive) and keeps guessing the number until the user tells it that it successfully guessed the number. Have the user type `H` to indicate that the correct number is higher than the computer's guess, `L` to indicate that the correct number is lower than the guess, and `C` to indicate the guess is correct."
   ]
  },
  {
   "cell_type": "code",
   "execution_count": 2,
   "id": "5d51d4df",
   "metadata": {},
   "outputs": [
    {
     "name": "stdout",
     "output_type": "stream",
     "text": [
      "You typed:\n",
      "Hello World\n"
     ]
    }
   ],
   "source": [
    "## Example of input\n",
    "x = input(\"Type whatever you want here, then I will print it for you.\")\n",
    "print(\"You typed:\")\n",
    "print(x)\n"
   ]
  },
  {
   "cell_type": "code",
   "execution_count": 9,
   "id": "b9899034",
   "metadata": {},
   "outputs": [
    {
     "name": "stdout",
     "output_type": "stream",
     "text": [
      "Think of a number between 1 and 100. I will keep guessing until I get it. \n",
      "              If my guess is too low, press L. If it is too high, press H. If it is correct, press C.\n",
      "              To exit, press esc\n"
     ]
    },
    {
     "name": "stdout",
     "output_type": "stream",
     "text": [
      "Awesome! So your number was {guess}. Glad we figured that out. Thanks for playing!\n"
     ]
    }
   ],
   "source": [
    "## code here\n",
    "import random\n",
    "def guess_a_number() -> None:\n",
    "    x = ''\n",
    "    print(f'''Think of a number between 1 and 100. I will keep guessing until I get it. \n",
    "              If my guess is too low, press L. If it is too high, press H. If it is correct, press C.\n",
    "              To exit, press esc''')\n",
    "    guess = random.randint(1,100)\n",
    "    left = 0\n",
    "    right = 101\n",
    "    while True:\n",
    "        x = input(f'My guess is: {guess}. Too high? Press H. Too low? Press L. Just right? Press C. Press Q to quit.''').upper()\n",
    "        if x == 'H':\n",
    "            right = guess\n",
    "            guess = guess - (guess - left) // 2\n",
    "        elif x == 'L':\n",
    "            left = guess\n",
    "            guess =  guess + (right - guess)//2\n",
    "            \n",
    "        elif x == 'C':\n",
    "            print('Awesome! So your number was {guess}. Glad we figured that out. Thanks for playing!')\n",
    "            break\n",
    "        elif x == 'Q':\n",
    "            break\n",
    "        else:\n",
    "            print('Invalid input, please enter H, L, or C as instructed.')\n",
    "    return\n",
    "guess_a_number()"
   ]
  },
  {
   "cell_type": "markdown",
   "id": "d54d4ffc",
   "metadata": {},
   "source": [
    "--------------------------\n",
    "\n",
    "This notebook was written for the Erd&#337;s Institute C&#337;de Data Science Boot Camp by Matthew Osborne, Ph. D., 2023.\n",
    "\n",
    "Any potential redistributors must seek and receive permission from Matthew Tyler Osborne, Ph.D. prior to redistribution. Redistribution of the material contained in this repository is conditional on acknowledgement of Matthew Tyler Osborne, Ph.D.'s original authorship and sponsorship of the Erdős Institute as subject to the license (see License.md)"
   ]
  },
  {
   "cell_type": "code",
   "execution_count": null,
   "id": "baf0b7d2",
   "metadata": {},
   "outputs": [],
   "source": []
  }
 ],
 "metadata": {
  "kernelspec": {
   "display_name": "Python 3 (ipykernel)",
   "language": "python",
   "name": "python3"
  },
  "language_info": {
   "codemirror_mode": {
    "name": "ipython",
    "version": 3
   },
   "file_extension": ".py",
   "mimetype": "text/x-python",
   "name": "python",
   "nbconvert_exporter": "python",
   "pygments_lexer": "ipython3",
   "version": "3.9.13"
  }
 },
 "nbformat": 4,
 "nbformat_minor": 5
}
